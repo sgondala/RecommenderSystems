{
 "cells": [
  {
   "cell_type": "code",
   "execution_count": 1,
   "metadata": {
    "collapsed": true
   },
   "outputs": [],
   "source": [
    "import cPickle as pickle"
   ]
  },
  {
   "cell_type": "code",
   "execution_count": 2,
   "metadata": {
    "collapsed": true
   },
   "outputs": [],
   "source": [
    "a = pickle.load(open(\"model.p\",\"r\"))"
   ]
  },
  {
   "cell_type": "code",
   "execution_count": 11,
   "metadata": {
    "collapsed": false
   },
   "outputs": [],
   "source": [
    "def count(a, val):\n",
    "    retVal = 0\n",
    "    for book in a:\n",
    "        for item in a[book]:\n",
    "            if item[0] >= val:\n",
    "                retVal += 1\n",
    "    return retVal\n"
   ]
  },
  {
   "cell_type": "code",
   "execution_count": 20,
   "metadata": {
    "collapsed": false
   },
   "outputs": [],
   "source": [
    "def getList(a, val):\n",
    "    li = []\n",
    "    for book in a:\n",
    "        for item in a[book]:\n",
    "            if item[0] >= val and item[0] != 1:\n",
    "                li.append(book)\n",
    "                break\n",
    "    return li"
   ]
  },
  {
   "cell_type": "code",
   "execution_count": 21,
   "metadata": {
    "collapsed": false
   },
   "outputs": [
    {
     "data": {
      "text/plain": [
       "['084395051X', '0345384903', '0449141543', '037316923X', '0345279255']"
      ]
     },
     "execution_count": 21,
     "metadata": {},
     "output_type": "execute_result"
    }
   ],
   "source": [
    "getList(a,0.5)[:5]"
   ]
  },
  {
   "cell_type": "code",
   "execution_count": 23,
   "metadata": {
    "collapsed": false
   },
   "outputs": [
    {
     "data": {
      "text/plain": [
       "[(1.0, '0802110908'),\n",
       " (0.5, '0060173793'),\n",
       " (0.3333333333333333, '0671701126'),\n",
       " (0.25, '0888995199'),\n",
       " (0.125, '1857990633'),\n",
       " (0.125, '0836236394'),\n",
       " (0.125, '0684865637'),\n",
       " (0.125, '0590129201'),\n",
       " (0.125, '0571209874'),\n",
       " (0.125, '0486404307')]"
      ]
     },
     "execution_count": 23,
     "metadata": {},
     "output_type": "execute_result"
    }
   ],
   "source": [
    "a['0345384903']"
   ]
  },
  {
   "cell_type": "code",
   "execution_count": null,
   "metadata": {
    "collapsed": true
   },
   "outputs": [],
   "source": [
    "  "
   ]
  }
 ],
 "metadata": {
  "kernelspec": {
   "display_name": "Python [Root]",
   "language": "python",
   "name": "Python [Root]"
  },
  "language_info": {
   "codemirror_mode": {
    "name": "ipython",
    "version": 2
   },
   "file_extension": ".py",
   "mimetype": "text/x-python",
   "name": "python",
   "nbconvert_exporter": "python",
   "pygments_lexer": "ipython2",
   "version": "2.7.12"
  }
 },
 "nbformat": 4,
 "nbformat_minor": 0
}
